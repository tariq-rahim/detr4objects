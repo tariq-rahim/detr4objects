{
 "cells": [
  {
   "cell_type": "markdown",
   "id": "82c08bab",
   "metadata": {},
   "source": [
    "### Custom Object Detection Algorithm"
   ]
  },
  {
   "cell_type": "code",
   "execution_count": null,
   "id": "279b31db",
   "metadata": {},
   "outputs": [],
   "source": [
    "import os\n",
    "import torchvision\n",
    "from transformers import DetrImageProcessor\n",
    "image_processor = DetrImageProcessor.from_pretrained(\"facebook/detr-resnet-50\")\n",
    "\n",
    "dataset = r'custom detr\\dataset_path' # Replace with your dataset path\n",
    "\n",
    "ANNOTATION_FILE_NAME = \"_annotations.coco.json\"\n",
    "TRAIN_DIRECTORY = os.path.join(dataset, \"train\")\n",
    "VAL_DIRECTORY = os.path.join(dataset, \"valid\")\n",
    "TEST_DIRECTORY = os.path.join(dataset, \"test\")\n",
    "\n",
    "\n",
    "class CocoDetection(torchvision.datasets.CocoDetection):\n",
    "    def __init__(\n",
    "        self, \n",
    "        image_directory_path: str, \n",
    "        image_processor, \n",
    "        train: bool = True\n",
    "    ):\n",
    "        annotation_file_path = os.path.join(image_directory_path, ANNOTATION_FILE_NAME)\n",
    "        super(CocoDetection, self).__init__(image_directory_path, annotation_file_path)\n",
    "        self.image_processor = image_processor\n",
    "\n",
    "    def __getitem__(self, idx):\n",
    "        images, annotations = super(CocoDetection, self).__getitem__(idx)        \n",
    "        image_id = self.ids[idx]\n",
    "        annotations = {'image_id': image_id, 'annotations': annotations}\n",
    "        encoding = self.image_processor(images=images, annotations=annotations, return_tensors=\"pt\")\n",
    "        pixel_values = encoding[\"pixel_values\"].squeeze()\n",
    "        target = encoding[\"labels\"][0]\n",
    "\n",
    "        return pixel_values, target\n",
    "\n",
    "\n",
    "TRAIN_DATASET = CocoDetection(image_directory_path=TRAIN_DIRECTORY, image_processor=image_processor, train=True)\n",
    "VAL_DATASET = CocoDetection(image_directory_path=VAL_DIRECTORY, image_processor=image_processor, train=False)\n",
    "TEST_DATASET = CocoDetection(image_directory_path=TEST_DIRECTORY, image_processor=image_processor, train=False)\n",
    "\n",
    "print(\"Number of training examples:\", len(TRAIN_DATASET))\n",
    "print(\"Number of validation examples:\", len(VAL_DATASET))\n",
    "print(\"Number of test examples:\", len(TEST_DATASET))"
   ]
  },
  {
   "cell_type": "code",
   "execution_count": null,
   "id": "a2fae5db",
   "metadata": {},
   "outputs": [],
   "source": [
    "categories = TRAIN_DATASET.coco.cats\n",
    "id2label = {k: v['name'] for k,v in categories.items()}"
   ]
  },
  {
   "cell_type": "code",
   "execution_count": null,
   "id": "7711d267",
   "metadata": {},
   "outputs": [],
   "source": [
    "# Visualize if dataset is loaded properly\n",
    "\n",
    "# import random\n",
    "# import cv2\n",
    "# import numpy as np\n",
    "\n",
    "\n",
    "# # select random image\n",
    "# image_ids = TRAIN_DATASET.coco.getImgIds()\n",
    "# image_id = random.choice(image_ids)\n",
    "# print('Image #{}'.format(image_id))\n",
    "\n",
    "# # load image and annotatons \n",
    "# image = TRAIN_DATASET.coco.loadImgs(image_id)[0]\n",
    "# annotations = TRAIN_DATASET.coco.imgToAnns[image_id]\n",
    "# image_path = os.path.join(TRAIN_DATASET.root, image['file_name'])\n",
    "# image = cv2.imread(image_path)\n",
    "\n",
    "# # annotate\n",
    "# detections = sv.Detections.from_coco_annotations(coco_annotation=annotations)\n",
    "\n",
    "# # we will use id2label function for training\n",
    "# categories = TRAIN_DATASET.coco.cats\n",
    "# id2label = {k: v['name'] for k,v in categories.items()}\n",
    "\n",
    "# labels = [\n",
    "#     f\"{id2label[class_id]}\" \n",
    "#     for _, _, class_id, _ \n",
    "#     in detections\n",
    "# ]\n",
    "\n",
    "# box_annotator = sv.BoxAnnotator()\n",
    "# frame = box_annotator.annotate(scene=image, detections=detections, labels=labels)\n",
    "\n",
    "# %matplotlib inline  \n",
    "# sv.show_frame_in_notebook(image, (8, 8))"
   ]
  }
 ],
 "metadata": {
  "language_info": {
   "name": "python"
  }
 },
 "nbformat": 4,
 "nbformat_minor": 5
}
